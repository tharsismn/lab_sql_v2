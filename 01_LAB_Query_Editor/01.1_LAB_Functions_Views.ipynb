{
 "cells": [
  {
   "cell_type": "markdown",
   "metadata": {
    "application/vnd.databricks.v1+cell": {
     "cellMetadata": {},
     "inputWidgets": {},
     "nuid": "51e054c8-3695-45a3-8be0-d03afa147b3f",
     "showTitle": false,
     "title": ""
    }
   },
   "source": [
    "<img src=\"https://raw.githubusercontent.com/Databricks-BR/lab_sql/main/images/header_handson_sql.png\">\n",
    "\n",
    "###Objetivo: Criar uma Tabela que contém informações sensíveis de contato e tratar utilizando uma função escrita em Python"
   ]
  },
  {
   "cell_type": "markdown",
   "metadata": {
    "application/vnd.databricks.v1+cell": {
     "cellMetadata": {},
     "inputWidgets": {},
     "nuid": "63d2a291-83d1-40f0-89f6-55d6ea26994f",
     "showTitle": false,
     "title": ""
    }
   },
   "source": [
    "##1. Criação da tabela\n",
    "```sql\n",
    "CREATE OR REPLACE TABLE <catalog>.<schema>.contatos_bronze\n",
    "  ( user_id      INT    COMMENT \"codigo do usuario\",\n",
    "    contato STRING COMMENT \"dados de contato do usuario\" )\n",
    "COMMENT \"Tabela com informacoes de contato dos usuarios\";\n",
    "```"
   ]
  },
  {
   "cell_type": "markdown",
   "metadata": {
    "application/vnd.databricks.v1+cell": {
     "cellMetadata": {},
     "inputWidgets": {},
     "nuid": "3474eacc-48ec-4c25-8b3a-154a2abe4757",
     "showTitle": false,
     "title": ""
    }
   },
   "source": [
    "##2. Inserindo informações de contato\n",
    "\n",
    "```SQL\n",
    "INSERT INTO <catalog>.<schema>.contatos_bronze (user_id, contato) VALUES (1, '{\n",
    "  \"name\": \"Joao Silva\",\n",
    "  \"email\": \"joao@example.com\",\n",
    "  \"phone\": \"+55 11 99999-9999\",\n",
    "  \"birthdate\": \"1985-01-01\"\n",
    "}');\n",
    "INSERT INTO <catalog>.<schema>.contatos_bronze (user_id, contato) VALUES (2, '{\n",
    "  \"name\": \"Maria Dias\",\n",
    "  \"email\": \"maria@example.com\",\n",
    "  \"phone\": \"+55 11 88888-8888\",\n",
    "  \"birthdate\": \"1990-05-15\"\n",
    "}');\n",
    "INSERT INTO <catalog>.<schema>.contatos_bronze (user_id, contato) VALUES (3, '{\n",
    "  \"name\": \"Jose Santos\",\n",
    "  \"email\": \"jose@example.com\",\n",
    "  \"phone\": \"+55 11 77777-7777\",\n",
    "  \"birthdate\": \"1983-11-20\"\n",
    "}');\n",
    "INSERT INTO <catalog>.<schema>.contatos_bronze (user_id, contato) VALUES (4, '{\n",
    "  \"name\": \"Ana Marques\",\n",
    "  \"email\": \"ana@example.com\",\n",
    "  \"phone\": \"+55 11 66666-6666\",\n",
    "  \"birthdate\": \"1995-02-28\"\n",
    "}');\n",
    "INSERT INTO <catalog>.<schema>.contatos_bronze (user_id, contato) VALUES (5, '{\n",
    "  \"name\": \"Pedro Matos\",\n",
    "  \"email\": \"pedro@example.com\",\n",
    "  \"phone\": \"+55 11 55555-5555\",\n",
    "  \"birthdate\": \"1978-09-10\"\n",
    "}');\n",
    "```"
   ]
  },
  {
   "cell_type": "markdown",
   "metadata": {
    "application/vnd.databricks.v1+cell": {
     "cellMetadata": {},
     "inputWidgets": {},
     "nuid": "7e7dc03e-27b6-4940-9ced-164cacc45827",
     "showTitle": false,
     "title": ""
    }
   },
   "source": [
    "##3.Verificando valores\n",
    "```sql\n",
    "SELECT * \n",
    "FROM <catalog>.<schema>.contatos_bronze;\n",
    "```"
   ]
  },
  {
   "cell_type": "markdown",
   "metadata": {
    "application/vnd.databricks.v1+cell": {
     "cellMetadata": {},
     "inputWidgets": {},
     "nuid": "dbc737c0-534d-45b9-9373-d50249c6302a",
     "showTitle": false,
     "title": ""
    }
   },
   "source": [
    "##4.Criar função de redact\n",
    "```sql\n",
    "CREATE OR REPLACE FUNCTION <catalog>.<schema>.redact_field(a STRING)\n",
    "RETURNS STRING\n",
    "LANGUAGE PYTHON\n",
    "AS $$\n",
    "import json\n",
    "keys = [\"email\", \"phone\", \"birthdate\"]\n",
    "obj = json.loads(a)\n",
    "for k in obj:\n",
    "  if k in keys:\n",
    "    obj[k] = \"REDACTED\"\n",
    "return json.dumps(obj)\n",
    "$$;\n",
    "```"
   ]
  },
  {
   "cell_type": "markdown",
   "metadata": {
    "application/vnd.databricks.v1+cell": {
     "cellMetadata": {},
     "inputWidgets": {},
     "nuid": "1c47807f-a64a-4466-b906-4c8a0a25a33e",
     "showTitle": false,
     "title": ""
    }
   },
   "source": [
    "##5. Testar função\n",
    "```sql\n",
    "SELECT \n",
    "    user_id as id, \n",
    "    <catalog>.<schema>.redact_field(contato) as contato\n",
    "FROM <catalog>.<schema>.contatos_bronze;\n",
    "```"
   ]
  },
  {
   "cell_type": "markdown",
   "metadata": {
    "application/vnd.databricks.v1+cell": {
     "cellMetadata": {},
     "inputWidgets": {},
     "nuid": "d14086ec-c150-4ecb-8053-2442e870faec",
     "showTitle": false,
     "title": ""
    }
   },
   "source": [
    "##6. Criar VIEW para consumo\n",
    "```sql\n",
    "CREATE OR REPLACE VIEW <catalog>.<schema>.contatos_redacted AS\n",
    "WITH redact_contatos AS (\n",
    "    SELECT \n",
    "        user_id, \n",
    "        <catalog>.<schema>.redact_field(contato) as contato\n",
    "    FROM <catalog>.<schema>.contatos_bronze\n",
    ")\n",
    "SELECT\n",
    "    user_id,\n",
    "    contato:name as name,\n",
    "    contato:phone as phone,\n",
    "    contato:email as email,\n",
    "    contato:birthdate as birthdate\n",
    "FROM\n",
    "    redact_contatos;\n",
    "```"
   ]
  },
  {
   "cell_type": "markdown",
   "metadata": {
    "application/vnd.databricks.v1+cell": {
     "cellMetadata": {},
     "inputWidgets": {},
     "nuid": "782dd0ed-8130-4f2c-a482-789d54730c67",
     "showTitle": false,
     "title": ""
    }
   },
   "source": [
    "##7. Veriricar valores redacted\n",
    "```sql\n",
    "SELECT *\n",
    "FROM <catalog>.<schema>.contatos_redacted;\n",
    "```"
   ]
  }
 ],
 "metadata": {
  "application/vnd.databricks.v1+notebook": {
   "dashboards": [],
   "language": "python",
   "notebookMetadata": {
    "pythonIndentUnit": 2
   },
   "notebookName": "01.1_LAB_Functions_Views",
   "widgets": {}
  }
 },
 "nbformat": 4,
 "nbformat_minor": 0
}
